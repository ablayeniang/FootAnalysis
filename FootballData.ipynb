{
 "cells": [
  {
   "cell_type": "code",
   "execution_count": 4,
   "id": "8027415c",
   "metadata": {},
   "outputs": [],
   "source": [
    "import pandas as pd\n",
    "import requests\n",
    "import os\n",
    "from datetime import datetime"
   ]
  },
  {
   "cell_type": "markdown",
   "id": "3fc93e74",
   "metadata": {},
   "source": [
    "<h1>Téléchargement des données par saison de foot</h1>"
   ]
  },
  {
   "cell_type": "code",
   "execution_count": 2,
   "id": "9fbaf65b",
   "metadata": {},
   "outputs": [],
   "source": [
    "# Working directory\n",
    "path = os.getcwd()\n",
    "path_dataset = os.path.join(path,\"Datasets\")"
   ]
  },
  {
   "cell_type": "code",
   "execution_count": 3,
   "id": "c7b56e42",
   "metadata": {},
   "outputs": [],
   "source": [
    "# Top 5 Leagues\n",
    "leagues = {\"E0\":\"England\", \n",
    "           \"I1\":\"Italy\", \n",
    "           \"D1\":\"Germany\", \n",
    "           \"SP1\":\"Spain\", \n",
    "           \"F1\":\"France\"}"
   ]
  },
  {
   "cell_type": "code",
   "execution_count": 7,
   "id": "23242bd6",
   "metadata": {},
   "outputs": [],
   "source": [
    "def season_list(number_season=1):\n",
    "    seasons = []\n",
    "    LIMIT_SAISON = 2005\n",
    "    year = datetime.today().year\n",
    "    # limit the max old season to 2005-2006\n",
    "    if (year - number_season) < LIMIT_SAISON:\n",
    "        number_season = year - LIMIT_SAISON\n",
    "    #Generate season ex: [\"0809\",..,\"1819\",\"1920\",\"2021\",...]\n",
    "    for i in range(number_season):\n",
    "        year_before = year-1\n",
    "        season = str(year_before)[2:] + str(year)[2:]\n",
    "        seasons.append(season)\n",
    "        year -= 1\n",
    "    return seasons"
   ]
  },
  {
   "cell_type": "code",
   "execution_count": 11,
   "id": "c7e12601",
   "metadata": {},
   "outputs": [],
   "source": [
    "# URL source dataset\n",
    "url = \"https://www.football-data.co.uk/mmz4281\""
   ]
  },
  {
   "cell_type": "code",
   "execution_count": 44,
   "id": "57dcd21f",
   "metadata": {},
   "outputs": [],
   "source": [
    "def download_datasets(league, season):\n",
    "    season = str(season)\n",
    "    pathdir = os.path.join(path_dataset, leagues[league])\n",
    "    # Create Dataset directory if not exist\n",
    "    if os.path.isdir(pathdir) == False:\n",
    "        os.makedirs(pathdir)\n",
    "\n",
    "    file_url = league+\"csv\"\n",
    "    full_url = os.path.join(url,season,file_url)\n",
    "    response = requests.get(full_url)\n",
    "    file_data = os.path.join(pathdir, season+\".csv\")\n",
    "    open(file_data, \"wb\").write(response.content)"
   ]
  },
  {
   "cell_type": "code",
   "execution_count": 145,
   "id": "d7f58605",
   "metadata": {
    "scrolled": true
   },
   "outputs": [
    {
     "name": "stdout",
     "output_type": "stream",
     "text": [
      "Download of 10 last season by League\n",
      "Season downloaded: 10/10 for England League\n",
      "Season downloaded: 10/10 for Italy League\n",
      "Season downloaded: 10/10 for Germany League\n",
      "Season downloaded: 10/10 for Spain League\n",
      "Season downloaded: 10/10 for France League\n"
     ]
    }
   ],
   "source": [
    "# Download Dataset of 10 last season by top 5 leagues\n",
    "seasons = season_list(10)\n",
    "n_season = len(seasons)\n",
    "print(\"Download of {} last season by League\".format(n_season))\n",
    "\n",
    "for league in leagues:\n",
    "    name = leagues[league]\n",
    "    n_iter = 1\n",
    "    for season in seasons:\n",
    "        log = \"Season downloaded: {}/{} for {} League\".format(n_iter, n_season, name)\n",
    "        download_datasets(league, season)\n",
    "        print(log,end=\"\\r\")\n",
    "        n_iter += 1\n",
    "    print(\"\")"
   ]
  },
  {
   "cell_type": "markdown",
   "id": "60d50fe5",
   "metadata": {},
   "source": [
    "<h1>Traitement et sélection des colonnes exploitées</h1>"
   ]
  },
  {
   "cell_type": "code",
   "execution_count": 146,
   "id": "ef32662e",
   "metadata": {},
   "outputs": [],
   "source": [
    "def float2int(df):\n",
    "    df = df.dropna(axis=0)\n",
    "    for index, typeof in df.dtypes.items():\n",
    "        if typeof == \"float64\":\n",
    "            df[index] = df[index].astype(int)\n",
    "    return df"
   ]
  },
  {
   "cell_type": "code",
   "execution_count": 147,
   "id": "7534bfd1",
   "metadata": {},
   "outputs": [],
   "source": [
    "# Selected columns\n",
    "cols = ['Date', 'HomeTeam', 'AwayTeam', 'FTHG', 'FTAG', 'FTR', 'HTHG', 'HTAG', 'HTR', \n",
    "        'HS', 'AS', 'HST', 'AST', 'HF', 'AF', 'HC', 'AC', 'HY', 'AY', 'HR', 'AR']"
   ]
  },
  {
   "cell_type": "code",
   "execution_count": 148,
   "id": "1ec270ff",
   "metadata": {},
   "outputs": [
    {
     "name": "stderr",
     "output_type": "stream",
     "text": [
      "/tmp/ipykernel_201296/268057422.py:5: SettingWithCopyWarning: \n",
      "A value is trying to be set on a copy of a slice from a DataFrame.\n",
      "Try using .loc[row_indexer,col_indexer] = value instead\n",
      "\n",
      "See the caveats in the documentation: https://pandas.pydata.org/pandas-docs/stable/user_guide/indexing.html#returning-a-view-versus-a-copy\n",
      "  df[index] = df[index].astype(int)\n",
      "/tmp/ipykernel_201296/1829971427.py:13: SettingWithCopyWarning: \n",
      "A value is trying to be set on a copy of a slice from a DataFrame.\n",
      "Try using .loc[row_indexer,col_indexer] = value instead\n",
      "\n",
      "See the caveats in the documentation: https://pandas.pydata.org/pandas-docs/stable/user_guide/indexing.html#returning-a-view-versus-a-copy\n",
      "  df['Season'] = str(s[0][:2])+\"-\"+str(s[0][2:])\n",
      "/tmp/ipykernel_201296/268057422.py:5: SettingWithCopyWarning: \n",
      "A value is trying to be set on a copy of a slice from a DataFrame.\n",
      "Try using .loc[row_indexer,col_indexer] = value instead\n",
      "\n",
      "See the caveats in the documentation: https://pandas.pydata.org/pandas-docs/stable/user_guide/indexing.html#returning-a-view-versus-a-copy\n",
      "  df[index] = df[index].astype(int)\n",
      "/tmp/ipykernel_201296/1829971427.py:13: SettingWithCopyWarning: \n",
      "A value is trying to be set on a copy of a slice from a DataFrame.\n",
      "Try using .loc[row_indexer,col_indexer] = value instead\n",
      "\n",
      "See the caveats in the documentation: https://pandas.pydata.org/pandas-docs/stable/user_guide/indexing.html#returning-a-view-versus-a-copy\n",
      "  df['Season'] = str(s[0][:2])+\"-\"+str(s[0][2:])\n",
      "/tmp/ipykernel_201296/268057422.py:5: SettingWithCopyWarning: \n",
      "A value is trying to be set on a copy of a slice from a DataFrame.\n",
      "Try using .loc[row_indexer,col_indexer] = value instead\n",
      "\n",
      "See the caveats in the documentation: https://pandas.pydata.org/pandas-docs/stable/user_guide/indexing.html#returning-a-view-versus-a-copy\n",
      "  df[index] = df[index].astype(int)\n",
      "/tmp/ipykernel_201296/1829971427.py:13: SettingWithCopyWarning: \n",
      "A value is trying to be set on a copy of a slice from a DataFrame.\n",
      "Try using .loc[row_indexer,col_indexer] = value instead\n",
      "\n",
      "See the caveats in the documentation: https://pandas.pydata.org/pandas-docs/stable/user_guide/indexing.html#returning-a-view-versus-a-copy\n",
      "  df['Season'] = str(s[0][:2])+\"-\"+str(s[0][2:])\n",
      "/tmp/ipykernel_201296/268057422.py:5: SettingWithCopyWarning: \n",
      "A value is trying to be set on a copy of a slice from a DataFrame.\n",
      "Try using .loc[row_indexer,col_indexer] = value instead\n",
      "\n",
      "See the caveats in the documentation: https://pandas.pydata.org/pandas-docs/stable/user_guide/indexing.html#returning-a-view-versus-a-copy\n",
      "  df[index] = df[index].astype(int)\n",
      "/tmp/ipykernel_201296/1829971427.py:13: SettingWithCopyWarning: \n",
      "A value is trying to be set on a copy of a slice from a DataFrame.\n",
      "Try using .loc[row_indexer,col_indexer] = value instead\n",
      "\n",
      "See the caveats in the documentation: https://pandas.pydata.org/pandas-docs/stable/user_guide/indexing.html#returning-a-view-versus-a-copy\n",
      "  df['Season'] = str(s[0][:2])+\"-\"+str(s[0][2:])\n",
      "/tmp/ipykernel_201296/268057422.py:5: SettingWithCopyWarning: \n",
      "A value is trying to be set on a copy of a slice from a DataFrame.\n",
      "Try using .loc[row_indexer,col_indexer] = value instead\n",
      "\n",
      "See the caveats in the documentation: https://pandas.pydata.org/pandas-docs/stable/user_guide/indexing.html#returning-a-view-versus-a-copy\n",
      "  df[index] = df[index].astype(int)\n",
      "/tmp/ipykernel_201296/1829971427.py:13: SettingWithCopyWarning: \n",
      "A value is trying to be set on a copy of a slice from a DataFrame.\n",
      "Try using .loc[row_indexer,col_indexer] = value instead\n",
      "\n",
      "See the caveats in the documentation: https://pandas.pydata.org/pandas-docs/stable/user_guide/indexing.html#returning-a-view-versus-a-copy\n",
      "  df['Season'] = str(s[0][:2])+\"-\"+str(s[0][2:])\n",
      "/tmp/ipykernel_201296/268057422.py:5: SettingWithCopyWarning: \n",
      "A value is trying to be set on a copy of a slice from a DataFrame.\n",
      "Try using .loc[row_indexer,col_indexer] = value instead\n",
      "\n",
      "See the caveats in the documentation: https://pandas.pydata.org/pandas-docs/stable/user_guide/indexing.html#returning-a-view-versus-a-copy\n",
      "  df[index] = df[index].astype(int)\n",
      "/tmp/ipykernel_201296/1829971427.py:13: SettingWithCopyWarning: \n",
      "A value is trying to be set on a copy of a slice from a DataFrame.\n",
      "Try using .loc[row_indexer,col_indexer] = value instead\n",
      "\n",
      "See the caveats in the documentation: https://pandas.pydata.org/pandas-docs/stable/user_guide/indexing.html#returning-a-view-versus-a-copy\n",
      "  df['Season'] = str(s[0][:2])+\"-\"+str(s[0][2:])\n",
      "/tmp/ipykernel_201296/268057422.py:5: SettingWithCopyWarning: \n",
      "A value is trying to be set on a copy of a slice from a DataFrame.\n",
      "Try using .loc[row_indexer,col_indexer] = value instead\n",
      "\n",
      "See the caveats in the documentation: https://pandas.pydata.org/pandas-docs/stable/user_guide/indexing.html#returning-a-view-versus-a-copy\n",
      "  df[index] = df[index].astype(int)\n",
      "/tmp/ipykernel_201296/1829971427.py:13: SettingWithCopyWarning: \n",
      "A value is trying to be set on a copy of a slice from a DataFrame.\n",
      "Try using .loc[row_indexer,col_indexer] = value instead\n",
      "\n",
      "See the caveats in the documentation: https://pandas.pydata.org/pandas-docs/stable/user_guide/indexing.html#returning-a-view-versus-a-copy\n",
      "  df['Season'] = str(s[0][:2])+\"-\"+str(s[0][2:])\n"
     ]
    }
   ],
   "source": [
    "for dirs, _, files in os.walk(path_dataset):\n",
    "    for f in files:\n",
    "        path_file = dirs.split('/')[-1]\n",
    "        outfile = os.path.join(dirs, path_file+\"-\"+f)\n",
    "        file = os.path.join(dirs,f)\n",
    "        df = pd.read_csv(file)\n",
    "        try:\n",
    "            df = df[cols]\n",
    "            df = float2int(df)\n",
    "        except:\n",
    "            print(file)\n",
    "        s = f.split('.')\n",
    "        df['Season'] = str(s[0][:2])+\"-\"+str(s[0][2:])\n",
    "        df.to_csv(outfile, index=None)\n",
    "        os.remove(os.path.join(dirs,f))"
   ]
  }
 ],
 "metadata": {
  "kernelspec": {
   "display_name": "Python 3 (ipykernel)",
   "language": "python",
   "name": "python3"
  },
  "language_info": {
   "codemirror_mode": {
    "name": "ipython",
    "version": 3
   },
   "file_extension": ".py",
   "mimetype": "text/x-python",
   "name": "python",
   "nbconvert_exporter": "python",
   "pygments_lexer": "ipython3",
   "version": "3.10.6"
  }
 },
 "nbformat": 4,
 "nbformat_minor": 5
}
