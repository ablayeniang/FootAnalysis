{
 "cells": [
  {
   "cell_type": "code",
   "execution_count": 4,
   "id": "c13286d6",
   "metadata": {},
   "outputs": [],
   "source": [
    "import pandas as pd\n",
    "import requests\n",
    "import os\n",
    "from datetime import datetime"
   ]
  },
  {
   "cell_type": "markdown",
   "id": "78b4acb9",
   "metadata": {},
   "source": [
    "#### <center>Téléchargement des données par saison de foot</center>"
   ]
  },
  {
   "cell_type": "code",
   "execution_count": 2,
   "id": "bb96bf81",
   "metadata": {},
   "outputs": [],
   "source": [
    "# Working directory\n",
    "path = os.getcwd()\n",
    "path_dataset = os.path.join(path,\"Datasets\")"
   ]
  },
  {
   "cell_type": "code",
   "execution_count": 3,
   "id": "59a08cdd",
   "metadata": {},
   "outputs": [],
   "source": [
    "# Top 5 Leagues\n",
    "leagues = {\"E0\":\"England\", \n",
    "           \"I1\":\"Italy\", \n",
    "           \"D1\":\"Germany\", \n",
    "           \"SP1\":\"Spain\", \n",
    "           \"F1\":\"France\"}"
   ]
  },
  {
   "cell_type": "code",
   "execution_count": 7,
   "id": "ca55afc3",
   "metadata": {},
   "outputs": [],
   "source": [
    "def season_list(number_season=1):\n",
    "    seasons = []\n",
    "    LIMIT_SAISON = 2005\n",
    "    year = datetime.today().year\n",
    "    # limit the max old season to 2005-2006\n",
    "    if (year - number_season) < LIMIT_SAISON:\n",
    "        number_season = year - LIMIT_SAISON\n",
    "    #Generate season ex: [\"0809\",..,\"1819\",\"1920\",\"2021\",...]\n",
    "    for i in range(number_season):\n",
    "        year_before = year-1\n",
    "        season = str(year_before)[2:] + str(year)[2:]\n",
    "        seasons.append(season)\n",
    "        year -= 1\n",
    "    return seasons"
   ]
  },
  {
   "cell_type": "code",
   "execution_count": 11,
   "id": "a4a75af9",
   "metadata": {},
   "outputs": [],
   "source": [
    "# URL source dataset\n",
    "url = \"https://www.football-data.co.uk/mmz4281\""
   ]
  },
  {
   "cell_type": "code",
   "execution_count": 15,
   "id": "6ff33087",
   "metadata": {},
   "outputs": [],
   "source": [
    "def download_datasets(league, season):\n",
    "    season = str(season)\n",
    "    pathdir = os.path.join(path_dataset, leagues[league])\n",
    "    # Create Dataset directory if not exist\n",
    "    if os.path.isdir(pathdir) == False:\n",
    "        os.makedirs(pathdir)\n",
    "\n",
    "    file_url = league+\"csv\"\n",
    "    full_url = os.path.join(url,season,file_url)\n",
    "    response = requests.get(full_url)\n",
    "    file_data = os.path.join(pathdir, season+\".csv\")\n",
    "    open(file_data, \"wb\").write(response.content)"
   ]
  },
  {
   "cell_type": "code",
   "execution_count": 18,
   "id": "5191e577",
   "metadata": {},
   "outputs": [
    {
     "name": "stdout",
     "output_type": "stream",
     "text": [
      "Download of 10 last season by League\n",
      "Season downloaded: 10/10 for England League\n",
      "Season downloaded: 10/10 for Italy League\n",
      "Season downloaded: 10/10 for Germany League\n",
      "Season downloaded: 10/10 for Spain League\n",
      "Season downloaded: 10/10 for France League\n"
     ]
    }
   ],
   "source": [
    "# Download Dataset of 10 last season by top 5 leagues\n",
    "seasons = season_list(10)\n",
    "n_season = len(seasons)\n",
    "print(\"Download of {} last season by League\".format(n_season))\n",
    "\n",
    "for league in leagues:\n",
    "    name = leagues[league]\n",
    "    n_iter = 1\n",
    "    for season in seasons:\n",
    "        log = \"Season downloaded: {}/{} for {} League\".format(n_iter, n_season, name)\n",
    "        download_datasets(league, season)\n",
    "        print(log,end=\"\\r\")\n",
    "        n_iter += 1\n",
    "    print(\"\")"
   ]
  }
 ],
 "metadata": {
  "kernelspec": {
   "display_name": "Python 3 (ipykernel)",
   "language": "python",
   "name": "python3"
  },
  "language_info": {
   "codemirror_mode": {
    "name": "ipython",
    "version": 3
   },
   "file_extension": ".py",
   "mimetype": "text/x-python",
   "name": "python",
   "nbconvert_exporter": "python",
   "pygments_lexer": "ipython3",
   "version": "3.10.6"
  }
 },
 "nbformat": 4,
 "nbformat_minor": 5
}
